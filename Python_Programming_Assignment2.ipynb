{
 "cells": [
  {
   "cell_type": "code",
   "execution_count": null,
   "id": "8ef5d186",
   "metadata": {},
   "outputs": [],
   "source": [
    "1. Write a Python program to convert kilometers to miles?\n",
    "Ans: km=(int(input(\"Enter the value of KM to convert into miles\\n\")))\n",
    "     print(\"Entered KM value is: \",km)\n",
    "     miles=km*(0.621371)\n",
    "     print(\"Value in miles is: \",miles)"
   ]
  },
  {
   "cell_type": "code",
   "execution_count": null,
   "id": "f7fcede1",
   "metadata": {},
   "outputs": [],
   "source": [
    "2. Write a Python program to convert Celsius to Fahrenheit?\n",
    "Ans: temp=(int(input(\"Enter the value of temp \\n\")))\n",
    "     print(\"Entered Temp Value in Celcius is: \", temp)\n",
    "     Fah=temp*(33.8) # 1C=33.8 fah\n",
    "     print(\"Temp value is Fahrenheit is: \",Fah)"
   ]
  },
  {
   "cell_type": "code",
   "execution_count": 7,
   "id": "3fd49e82",
   "metadata": {},
   "outputs": [
    {
     "name": "stdout",
     "output_type": "stream",
     "text": [
      "    August 2022\n",
      "Mo Tu We Th Fr Sa Su\n",
      " 1  2  3  4  5  6  7\n",
      " 8  9 10 11 12 13 14\n",
      "15 16 17 18 19 20 21\n",
      "22 23 24 25 26 27 28\n",
      "29 30 31\n",
      "\n"
     ]
    }
   ],
   "source": [
    "#3. Write a Python# program to display calendar?\n",
    "import calendar\n",
    "print(calendar.month(2022,8))"
   ]
  },
  {
   "cell_type": "code",
   "execution_count": 12,
   "id": "538e81b9",
   "metadata": {},
   "outputs": [
    {
     "name": "stdout",
     "output_type": "stream",
     "text": [
      "Enter the value of a: 1\n",
      "Enter the value of b: 5\n",
      "Enter the value of c: 6\n",
      "The solution are (-3+0j) and (-2+0j)\n"
     ]
    }
   ],
   "source": [
    "#4. Write a Python program to solve quadratic equation?\n",
    "import cmath\n",
    "a= int(input(\"Enter the value of a: \"))\n",
    "b= int(input(\"Enter the value of b: \"))\n",
    "c= int(input(\"Enter the value of c: \"))\n",
    "d=(b**2)-(4*a*c)\n",
    "equ1 = (-b-cmath.sqrt(d))/(2*a)\n",
    "equ2 = (-b+cmath.sqrt(d))/(2*a)\n",
    "print('The solution are {} and {}'.format(equ1,equ2))\n",
    "\n"
   ]
  },
  {
   "cell_type": "code",
   "execution_count": 2,
   "id": "4d8100da",
   "metadata": {},
   "outputs": [
    {
     "name": "stdout",
     "output_type": "stream",
     "text": [
      "Before Swaping Values of i & j are:  20 10\n",
      "After Swaping values of i & j are:  10 20\n"
     ]
    }
   ],
   "source": [
    "Q5. Write a Python program to swap two variables without temp variable?\n",
    "i=20\n",
    "j=10\n",
    "print(\"Before Swaping Values of i & j are: \", i,j)\n",
    "i=i^j\n",
    "j=i^j\n",
    "i=i^j\n",
    "print(\"After Swaping values of i & j are: \", i,j)"
   ]
  },
  {
   "cell_type": "code",
   "execution_count": null,
   "id": "3f939e70",
   "metadata": {},
   "outputs": [],
   "source": []
  }
 ],
 "metadata": {
  "kernelspec": {
   "display_name": "Python 3 (ipykernel)",
   "language": "python",
   "name": "python3"
  },
  "language_info": {
   "codemirror_mode": {
    "name": "ipython",
    "version": 3
   },
   "file_extension": ".py",
   "mimetype": "text/x-python",
   "name": "python",
   "nbconvert_exporter": "python",
   "pygments_lexer": "ipython3",
   "version": "3.9.12"
  }
 },
 "nbformat": 4,
 "nbformat_minor": 5
}
