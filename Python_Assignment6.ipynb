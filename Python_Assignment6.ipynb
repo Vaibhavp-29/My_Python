{
 "cells": [
  {
   "cell_type": "code",
   "execution_count": null,
   "id": "015a548f",
   "metadata": {},
   "outputs": [],
   "source": [
    "#1. What are escape characters, and how do you use them?\n",
    "Ans: If we want to use characters which are not allowed to use, we can use them by using \\\n",
    "     for ex. if want to use \"Today is \"Good\" day \" double quote inside double quote, we can use \\ to make it leagle\n",
    "         so we can write statement like this \"Today is \\\"Good\\\" Day\"\n",
    "     some examples are \\,\\n,\\r,\\t"
   ]
  },
  {
   "cell_type": "code",
   "execution_count": 3,
   "id": "9f5e6fe3",
   "metadata": {},
   "outputs": [],
   "source": [
    "s=\"Today is \\\"good\\\" Day\""
   ]
  },
  {
   "cell_type": "code",
   "execution_count": 4,
   "id": "b8073301",
   "metadata": {},
   "outputs": [
    {
     "name": "stdout",
     "output_type": "stream",
     "text": [
      "Today is \"good\" Day\n"
     ]
    }
   ],
   "source": [
    "print(s)"
   ]
  },
  {
   "cell_type": "code",
   "execution_count": null,
   "id": "5e0bace1",
   "metadata": {},
   "outputs": [],
   "source": [
    "#2. What do the escape characters n and t stand for?\n",
    "Ans: n stands for new line\n",
    "     t stands for tab"
   ]
  },
  {
   "cell_type": "code",
   "execution_count": null,
   "id": "9bf7fdd4",
   "metadata": {},
   "outputs": [],
   "source": [
    "#3. What is the way to include backslash characters in a string?\n",
    "Ans: by using syntax like this \\\\ \"HelloPython\\\\\" so it will give output like \"HelloPython\\\""
   ]
  },
  {
   "cell_type": "code",
   "execution_count": null,
   "id": "45eee7fa",
   "metadata": {},
   "outputs": [],
   "source": [
    "#4. The string &quot;How\\'s Moving Castle&quot; is a correct value. Why isn't the single quote character in the\n",
    "#word How\\'s not escaped a problem?\n",
    "Ans: because of escape character \\  it didn't escape "
   ]
  },
  {
   "cell_type": "code",
   "execution_count": null,
   "id": "b9a99233",
   "metadata": {},
   "outputs": [],
   "source": [
    "#5. How do you write a string of newlines if you don't want to use the n character\n",
    "Ans: We can add extra print(\" \") \n",
    "     print(\"Hello world\",end=\"\")\n",
    "     print(\" \")\n",
    "     print(\"My Name is Vaibhav\") "
   ]
  },
  {
   "cell_type": "code",
   "execution_count": null,
   "id": "a100f866",
   "metadata": {},
   "outputs": [],
   "source": [
    "\"\"\"Q6. What are the values of the given expressions?\n",
    "'Hello, world!';[1]\n",
    "'Hello, world!&';[0:5]\n",
    "'Hello, world!';[:5]\n",
    "'Hello, world!&';[3:]\"\"\"\n",
    "Ans: ans are mentioned below in sequence\n",
    "     'e'\n",
    "     'Hello'\n",
    "     'Hello'\n",
    "     'lo, world!'"
   ]
  },
  {
   "cell_type": "code",
   "execution_count": null,
   "id": "6907b213",
   "metadata": {},
   "outputs": [],
   "source": [
    "#7. What are the values of the following expressions?\n",
    "'Hello'.upper()\n",
    "'Hello'.upper().isupper()\n",
    "'Hello'.upper().lower()\n",
    "Ans: 'HELLO'\n",
    "      True\n",
    "      'hello' "
   ]
  },
  {
   "cell_type": "code",
   "execution_count": null,
   "id": "5f9a885c",
   "metadata": {},
   "outputs": [],
   "source": [
    "\"\"\"8. What are the values of the following expressions?\n",
    "'Remember, remember, the fifth of July.'.split()\n",
    "'-'.join('There can only one.'.split())\"\"\"\n",
    "Ans: ['Remember,', 'remember,', 'the', 'fifth', 'of', 'July.']\n",
    "     'There-can-only-one.'"
   ]
  },
  {
   "cell_type": "code",
   "execution_count": 48,
   "id": "bed2774d",
   "metadata": {},
   "outputs": [
    {
     "data": {
      "text/plain": [
       "['Remember,', 'remember,', 'the', 'fifth', 'of', 'July.']"
      ]
     },
     "execution_count": 48,
     "metadata": {},
     "output_type": "execute_result"
    }
   ],
   "source": [
    "'Remember, remember, the fifth of July.'.split()"
   ]
  },
  {
   "cell_type": "code",
   "execution_count": 51,
   "id": "a95f07f7",
   "metadata": {},
   "outputs": [
    {
     "data": {
      "text/plain": [
       "'There-can-only-one.'"
      ]
     },
     "execution_count": 51,
     "metadata": {},
     "output_type": "execute_result"
    }
   ],
   "source": [
    "'-'.join('There can only one.'.split())"
   ]
  },
  {
   "cell_type": "code",
   "execution_count": null,
   "id": "8ba7a250",
   "metadata": {},
   "outputs": [],
   "source": [
    "#9. What are the methods for right-justifying, left-justifying, and centering a string?\n",
    "Ans: ljust(), rjust(), center()"
   ]
  },
  {
   "cell_type": "code",
   "execution_count": 57,
   "id": "394a0d31",
   "metadata": {},
   "outputs": [
    {
     "name": "stdout",
     "output_type": "stream",
     "text": [
      "**Hitansh**\n"
     ]
    }
   ],
   "source": [
    "h=\"Hitansh\"\n",
    "print(h.center(11,'*'))"
   ]
  },
  {
   "cell_type": "code",
   "execution_count": 59,
   "id": "380bab85",
   "metadata": {},
   "outputs": [
    {
     "name": "stdout",
     "output_type": "stream",
     "text": [
      "Hitansh****\n"
     ]
    }
   ],
   "source": [
    "print(h.ljust(11,'*'))"
   ]
  },
  {
   "cell_type": "code",
   "execution_count": 60,
   "id": "f69dd63b",
   "metadata": {},
   "outputs": [
    {
     "name": "stdout",
     "output_type": "stream",
     "text": [
      "****Hitansh\n"
     ]
    }
   ],
   "source": [
    "print(h.rjust(11,\"*\"))"
   ]
  },
  {
   "cell_type": "code",
   "execution_count": null,
   "id": "dc1c547a",
   "metadata": {},
   "outputs": [],
   "source": [
    "#10. What is the best way to remove whitespace characters from the start or end?\n",
    "Ans: we can use strip method, lstrip(), rstrip() to remove whitespaces & characters"
   ]
  },
  {
   "cell_type": "code",
   "execution_count": 68,
   "id": "ccc48707",
   "metadata": {},
   "outputs": [
    {
     "data": {
      "text/plain": [
       "'  python'"
      ]
     },
     "execution_count": 68,
     "metadata": {},
     "output_type": "execute_result"
    }
   ],
   "source": [
    "r=\"  python \"\n",
    "r.rstrip()"
   ]
  },
  {
   "cell_type": "code",
   "execution_count": 67,
   "id": "ae313a57",
   "metadata": {},
   "outputs": [
    {
     "data": {
      "text/plain": [
       "'python '"
      ]
     },
     "execution_count": 67,
     "metadata": {},
     "output_type": "execute_result"
    }
   ],
   "source": [
    "r.lstrip()"
   ]
  },
  {
   "cell_type": "code",
   "execution_count": null,
   "id": "e0226195",
   "metadata": {},
   "outputs": [],
   "source": []
  }
 ],
 "metadata": {
  "kernelspec": {
   "display_name": "Python 3 (ipykernel)",
   "language": "python",
   "name": "python3"
  },
  "language_info": {
   "codemirror_mode": {
    "name": "ipython",
    "version": 3
   },
   "file_extension": ".py",
   "mimetype": "text/x-python",
   "name": "python",
   "nbconvert_exporter": "python",
   "pygments_lexer": "ipython3",
   "version": "3.9.12"
  }
 },
 "nbformat": 4,
 "nbformat_minor": 5
}
