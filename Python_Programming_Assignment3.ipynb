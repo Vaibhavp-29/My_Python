{
 "cells": [
  {
   "cell_type": "code",
   "execution_count": 12,
   "id": "7ffbfcab",
   "metadata": {},
   "outputs": [
    {
     "name": "stdout",
     "output_type": "stream",
     "text": [
      "Enter the number you want\n",
      "0\n",
      "Entered number is Zero\n"
     ]
    }
   ],
   "source": [
    "#1. Write a Python Program to Check if a Number is Positive, Negative or Zero?\n",
    "num=(int(input(\"Enter the number you want\\n\")))\n",
    "#print(num)\n",
    "if num>0:\n",
    "    print(\"Entered number is Positive\")\n",
    "elif num<0:\n",
    "    print(\"Entered number is Negative\")\n",
    "else:\n",
    "    print(\"Entered number is Zero\")"
   ]
  },
  {
   "cell_type": "code",
   "execution_count": 10,
   "id": "82fa7566",
   "metadata": {},
   "outputs": [
    {
     "name": "stdout",
     "output_type": "stream",
     "text": [
      "Enter the number you want \n",
      "7\n",
      "Entered number is Odd\n"
     ]
    }
   ],
   "source": [
    "#2. Write a Python Program to Check if a Number is Odd or Even?\n",
    "num=(int(input(\"Enter the number you want \\n\")))\n",
    "#print(num)\n",
    "if num%2==0:\n",
    "    print(\"Entered Number is Even\")\n",
    "elif num==1:\n",
    "    print(\"Number is neither even nor odd\")\n",
    "else:\n",
    "    print(\"Entered number is Odd\")"
   ]
  },
  {
   "cell_type": "code",
   "execution_count": 16,
   "id": "a4bfe3e5",
   "metadata": {},
   "outputs": [
    {
     "name": "stdout",
     "output_type": "stream",
     "text": [
      "Enter the Year \n",
      "2024\n",
      "This is Leap Year\n"
     ]
    }
   ],
   "source": [
    "#3. Write a Python Program to Check Leap Year?\n",
    "year=(int(input(\"Enter the Year \\n\")))\n",
    "if year%4==0:\n",
    "    if year%100==0:\n",
    "        if year%400==0:\n",
    "            print(\"This is Leap Year\")\n",
    "        else:\n",
    "            print(\"This is not Leap Year\")\n",
    "    else:\n",
    "        print(\"This is Leap Year\")\n",
    "else:\n",
    "    print(\"This is Leap Year\")"
   ]
  },
  {
   "cell_type": "code",
   "execution_count": 6,
   "id": "2376b5dd",
   "metadata": {},
   "outputs": [
    {
     "name": "stdout",
     "output_type": "stream",
     "text": [
      "Enter the number \n",
      "830\n",
      "Number is Not Prime\n",
      "\n"
     ]
    }
   ],
   "source": [
    "#4. Write a Python Program to Check Prime Number?\n",
    "num=(int(input(\"Enter the number \\n\")))\n",
    "c=0\n",
    "for i in range (1,num+1):\n",
    "    if num==1:\n",
    "        print(\"It is Prime Number\\n\")\n",
    "    elif num%i==0:\n",
    "        c=c+1    \n",
    "if(c==2):\n",
    "    print(\"Number is Prime\\n\")\n",
    "else:\n",
    "    print(\"Number is Not Prime\\n\")\n"
   ]
  },
  {
   "cell_type": "code",
   "execution_count": null,
   "id": "99d36a54",
   "metadata": {},
   "outputs": [],
   "source": [
    "#5. Write a Python Program to Print all Prime Numbers in an Interval of 1-10000?\n",
    "for j in range(1,10001):\n",
    "    num=j\n",
    "    c=0\n",
    "    for i in range (1,num+1):\n",
    "        if num==1:\n",
    "            print(num)\n",
    "        elif num%i==0:\n",
    "            c=c+1    \n",
    "    if(c==2):\n",
    "        print(num)\n"
   ]
  }
 ],
 "metadata": {
  "kernelspec": {
   "display_name": "Python 3 (ipykernel)",
   "language": "python",
   "name": "python3"
  },
  "language_info": {
   "codemirror_mode": {
    "name": "ipython",
    "version": 3
   },
   "file_extension": ".py",
   "mimetype": "text/x-python",
   "name": "python",
   "nbconvert_exporter": "python",
   "pygments_lexer": "ipython3",
   "version": "3.9.12"
  }
 },
 "nbformat": 4,
 "nbformat_minor": 5
}
