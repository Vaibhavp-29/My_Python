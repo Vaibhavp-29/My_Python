{
 "cells": [
  {
   "cell_type": "code",
   "execution_count": 3,
   "id": "3a07369f",
   "metadata": {},
   "outputs": [
    {
     "name": "stdout",
     "output_type": "stream",
     "text": [
      "Enter the value of a \n",
      "23\n",
      "Enter the value of b \n",
      "46\n",
      "LCM of a & b is :  46\n"
     ]
    }
   ],
   "source": [
    "#1. Write a Python Program to Find LCM?\n",
    "import math\n",
    "a=(int(input(\"Enter the value of a \\n\")))\n",
    "b=(int(input(\"Enter the value of b \\n\")))\n",
    "print(\"LCM of a & b is : \",math.lcm(a,b))"
   ]
  },
  {
   "cell_type": "code",
   "execution_count": 7,
   "id": "d6b49565",
   "metadata": {},
   "outputs": [
    {
     "name": "stdout",
     "output_type": "stream",
     "text": [
      "Enter the value of a \n",
      "23\n",
      "Enter the value of b \n",
      "46\n",
      "LCM of 23 and 46 is 46\n"
     ]
    }
   ],
   "source": [
    "#1. Write a Python Program to Find LCM?\n",
    "def find_lcm(a,b):\n",
    "    if a>b:\n",
    "        large=a\n",
    "    else:\n",
    "        large=b\n",
    "    while True:\n",
    "        if (large%a==0) and (large%b==0):\n",
    "            break\n",
    "        large=large+1\n",
    "    return large\n",
    "a=(int(input(\"Enter the value of a \\n\")))\n",
    "b=(int(input(\"Enter the value of b \\n\")))\n",
    "lcm=find_lcm(a,b)\n",
    "print(\"LCM of\",a,\"and\",b,\"is\",lcm)"
   ]
  },
  {
   "cell_type": "code",
   "execution_count": 11,
   "id": "ac19b30a",
   "metadata": {},
   "outputs": [
    {
     "name": "stdout",
     "output_type": "stream",
     "text": [
      "Enter the value of a \n",
      "300\n",
      "Enter the value of b \n",
      "400\n",
      "The HCF is 100\n"
     ]
    }
   ],
   "source": [
    "#2. Write a Python Program to Find HCF?\n",
    "def find_hcf(x, y):\n",
    "    while(y):\n",
    "        x, y = y, x % y\n",
    "    return x\n",
    "\n",
    "a=(int(input(\"Enter the value of a \\n\")))\n",
    "b=(int(input(\"Enter the value of b \\n\")))\n",
    "hcf = find_hcf(a, b)\n",
    "print(\"The HCF is\", hcf)"
   ]
  },
  {
   "cell_type": "code",
   "execution_count": 15,
   "id": "c467ce21",
   "metadata": {},
   "outputs": [
    {
     "name": "stdout",
     "output_type": "stream",
     "text": [
      "Enter the decimal value\n",
      "10\n",
      "1010\n",
      "0xa\n",
      "0o12\n"
     ]
    }
   ],
   "source": [
    "#3. Write a Python Program to Convert Decimal to Binary, Octal and Hexadecimal?\n",
    "dec=(int(input(\"Enter the decimal value\\n\")))\n",
    "print(bin(dec).replace(\"0b\",\"\"))\n",
    "print(hex(dec))\n",
    "print(oct(dec))"
   ]
  },
  {
   "cell_type": "code",
   "execution_count": 26,
   "id": "1a828c27",
   "metadata": {},
   "outputs": [
    {
     "name": "stdout",
     "output_type": "stream",
     "text": [
      "Enter the value of character you want\n",
      "a\n",
      "97\n"
     ]
    }
   ],
   "source": [
    "#4. Write a Python Program To Find ASCII value of a character?\n",
    "\n",
    "ch=(input(\"Enter the value of character you want\\n\"))\n",
    "print(ord(ch)) #ord is a built-in fucntion present in python which converts character to its ASCII value\n"
   ]
  },
  {
   "cell_type": "code",
   "execution_count": 3,
   "id": "83805287",
   "metadata": {},
   "outputs": [
    {
     "name": "stdout",
     "output_type": "stream",
     "text": [
      "Enter the 1st number \n",
      "10\n",
      "Enter the 2nd number \n",
      "20\n"
     ]
    },
    {
     "data": {
      "text/plain": [
       "2"
      ]
     },
     "execution_count": 3,
     "metadata": {},
     "output_type": "execute_result"
    }
   ],
   "source": [
    "#5. Write a Python Program to Make a Simple Calculator with 4 basic mathematical operations?\n",
    "def add_num (a,b):\n",
    "    return a+b\n",
    "def sub_num(a,b):\n",
    "    return a-b\n",
    "def mul_num(a,b):\n",
    "    return a*b\n",
    "def div_num(a,b):\n",
    "    return a//b\n",
    "a=(int(input(\"Enter the 1st number \\n\")))\n",
    "b=(int(input(\"Enter the 2nd number \\n\")))\n",
    "div_num(5,2)"
   ]
  },
  {
   "cell_type": "code",
   "execution_count": 2,
   "id": "6f672426",
   "metadata": {},
   "outputs": [
    {
     "data": {
      "text/plain": [
       "30"
      ]
     },
     "execution_count": 2,
     "metadata": {},
     "output_type": "execute_result"
    }
   ],
   "source": [
    "add_num(10,20)"
   ]
  },
  {
   "cell_type": "code",
   "execution_count": 6,
   "id": "984c2603",
   "metadata": {},
   "outputs": [
    {
     "data": {
      "text/plain": [
       "-10"
      ]
     },
     "execution_count": 6,
     "metadata": {},
     "output_type": "execute_result"
    }
   ],
   "source": [
    "sub_num(10,20)"
   ]
  },
  {
   "cell_type": "code",
   "execution_count": null,
   "id": "746d2dd0",
   "metadata": {},
   "outputs": [],
   "source": []
  }
 ],
 "metadata": {
  "kernelspec": {
   "display_name": "Python 3 (ipykernel)",
   "language": "python",
   "name": "python3"
  },
  "language_info": {
   "codemirror_mode": {
    "name": "ipython",
    "version": 3
   },
   "file_extension": ".py",
   "mimetype": "text/x-python",
   "name": "python",
   "nbconvert_exporter": "python",
   "pygments_lexer": "ipython3",
   "version": "3.9.12"
  }
 },
 "nbformat": 4,
 "nbformat_minor": 5
}
