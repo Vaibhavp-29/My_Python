{
 "cells": [
  {
   "cell_type": "code",
   "execution_count": 5,
   "id": "bfd7ccd1",
   "metadata": {},
   "outputs": [
    {
     "name": "stdout",
     "output_type": "stream",
     "text": [
      "Enter the Number \n",
      "6\n",
      "Factorial of number is:  720\n"
     ]
    }
   ],
   "source": [
    "#1. Write a Python Program to Find the Factorial of a Number?\n",
    "num=(int(input(\"Enter the Number \\n\")))\n",
    "fact=1\n",
    "for i in range (1,num+1):\n",
    "    fact=fact*i\n",
    "print(\"Factorial of number is: \",fact)\n"
   ]
  },
  {
   "cell_type": "code",
   "execution_count": 8,
   "id": "6a991413",
   "metadata": {},
   "outputs": [
    {
     "name": "stdout",
     "output_type": "stream",
     "text": [
      "Enter the Number for which you want table: 3\n",
      "3\n",
      "6\n",
      "9\n",
      "12\n",
      "15\n",
      "18\n",
      "21\n",
      "24\n",
      "27\n",
      "30\n"
     ]
    }
   ],
   "source": [
    "#2. Write a Python Program to Display the multiplication Table?\n",
    "num=(int(input(\"Enter the Number for which you want table: \")))\n",
    "t=1\n",
    "for i in range(1,11):\n",
    "    t=num*i\n",
    "    print(t)"
   ]
  },
  {
   "cell_type": "code",
   "execution_count": 24,
   "id": "acccebfa",
   "metadata": {},
   "outputs": [
    {
     "name": "stdout",
     "output_type": "stream",
     "text": [
      "Enter the count till you want to print FB series: 5\n",
      "Fibonacci series is\n",
      "\n",
      "0\n",
      "1\n",
      "1\n",
      "2\n",
      "3\n"
     ]
    }
   ],
   "source": [
    "#3. Write a Python Program to Print the Fibonacci sequence?\n",
    "cnt=(int(input(\"Enter the count till you want to print FB series: \")))\n",
    "c=0\n",
    "n1=0\n",
    "n2=1\n",
    "if cnt<0 or cnt==0:\n",
    "    print(\"Enter the positive number or Number greater than 0 \\n\")\n",
    "elif cnt==1:\n",
    "    print(\"Fibonacci sereis is: \",n1)\n",
    "else:\n",
    "    print(\"Fibonacci series is\\n\")\n",
    "    while c<cnt:\n",
    "        print(n1)\n",
    "        add=n1+n2\n",
    "        n1=n2\n",
    "        n2=add\n",
    "        c=c+1\n",
    "\n",
    "    \n",
    "    "
   ]
  },
  {
   "cell_type": "code",
   "execution_count": 14,
   "id": "6046f3f3",
   "metadata": {},
   "outputs": [
    {
     "name": "stdout",
     "output_type": "stream",
     "text": [
      "Enter the Number \n",
      "10\n",
      "Number is Not Armstrong\n",
      "\n"
     ]
    }
   ],
   "source": [
    "#4. Write a Python Program to Check Armstrong Number?\n",
    "num=(int(input(\"Enter the Number \\n\")))\n",
    "ln=len(str(num))\n",
    "temp=num\n",
    "sum=0\n",
    "while temp>0:\n",
    "    order=temp%10\n",
    "    sum=sum+order**ln\n",
    "    temp=temp//10\n",
    "if sum==num:\n",
    "    print(\"Number is Armstrong\\n\")\n",
    "else:\n",
    "    print(\"Number is Not Armstrong\\n\")"
   ]
  },
  {
   "cell_type": "code",
   "execution_count": 4,
   "id": "2ac17259",
   "metadata": {},
   "outputs": [
    {
     "name": "stdout",
     "output_type": "stream",
     "text": [
      "Enter the Number \n",
      "500\n",
      "1\n",
      "2\n",
      "3\n",
      "4\n",
      "5\n",
      "6\n",
      "7\n",
      "8\n",
      "9\n",
      "153\n",
      "370\n",
      "371\n",
      "407\n"
     ]
    }
   ],
   "source": [
    "#5. Write a Python Program to Check Armstrong Number in An interval?\n",
    "\n",
    "num=(int(input(\"Enter the Number \\n\")))\n",
    "for i in range(1,num+1):\n",
    "    temp=i\n",
    "    ln=len(str(temp))\n",
    "    sum=0\n",
    "    while temp>0:\n",
    "        order=temp%10\n",
    "        sum=sum+order**ln\n",
    "        temp=temp//10\n",
    "    if sum==i:\n",
    "        print(sum)\n",
    "    "
   ]
  },
  {
   "cell_type": "code",
   "execution_count": 3,
   "id": "8bf5a1cb",
   "metadata": {},
   "outputs": [
    {
     "name": "stdout",
     "output_type": "stream",
     "text": [
      "Enter the number \n",
      "3\n",
      "The sum is 6\n"
     ]
    }
   ],
   "source": [
    "#6. Write a Python Program to Find the Sum of Natural Numbers?\n",
    "num=(int(input(\"Enter the number \\n\")))\n",
    "if num < 0:\n",
    "    print(\"Enter a positive number\")\n",
    "else:\n",
    "    sum = 0\n",
    "    while(num > 0):\n",
    "        sum += num\n",
    "        num -= 1\n",
    "print(\"The sum is\", sum)"
   ]
  },
  {
   "cell_type": "code",
   "execution_count": null,
   "id": "87d8ce19",
   "metadata": {},
   "outputs": [],
   "source": [
    "16"
   ]
  }
 ],
 "metadata": {
  "kernelspec": {
   "display_name": "Python 3 (ipykernel)",
   "language": "python",
   "name": "python3"
  },
  "language_info": {
   "codemirror_mode": {
    "name": "ipython",
    "version": 3
   },
   "file_extension": ".py",
   "mimetype": "text/x-python",
   "name": "python",
   "nbconvert_exporter": "python",
   "pygments_lexer": "ipython3",
   "version": "3.9.12"
  }
 },
 "nbformat": 4,
 "nbformat_minor": 5
}
