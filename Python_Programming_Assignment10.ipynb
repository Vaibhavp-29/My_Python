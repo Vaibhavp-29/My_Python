{
 "cells": [
  {
   "cell_type": "code",
   "execution_count": 1,
   "id": "e743f88e",
   "metadata": {},
   "outputs": [
    {
     "name": "stdout",
     "output_type": "stream",
     "text": [
      "15\n",
      "15\n"
     ]
    }
   ],
   "source": [
    "#1. Write a Python program to find sum of elements in list?\n",
    "l=[1,2,3,4,5]\n",
    "print(sum(l)) #we can use this in built function as well\n",
    "add=0\n",
    "for i in l:\n",
    "    add+=i\n",
    "print(add)"
   ]
  },
  {
   "cell_type": "code",
   "execution_count": 2,
   "id": "1d57e559",
   "metadata": {},
   "outputs": [
    {
     "name": "stdout",
     "output_type": "stream",
     "text": [
      "120\n"
     ]
    }
   ],
   "source": [
    "#2. Write a Python program to Multiply all numbers in the list?\n",
    "l=[1,2,3,4,5]\n",
    "mul=1\n",
    "for i in l:\n",
    "    mul=mul*i\n",
    "print(mul)"
   ]
  },
  {
   "cell_type": "code",
   "execution_count": 11,
   "id": "73d50d3d",
   "metadata": {},
   "outputs": [
    {
     "name": "stdout",
     "output_type": "stream",
     "text": [
      "2\n"
     ]
    }
   ],
   "source": [
    "#3. Write a Python program to find smallest number in a list?\n",
    "l=[4,5,2,5,6]\n",
    "#print(min(l)) # min is in built function who gives smallest element in list \n",
    "min1=l[0]\n",
    "for i in range(len(l)):\n",
    "    if l[i]<min1:\n",
    "        min1=l[i]\n",
    "print(min1)\n",
    "    \n",
    "    \n",
    "        \n",
    "    "
   ]
  },
  {
   "cell_type": "code",
   "execution_count": 19,
   "id": "59c9f724",
   "metadata": {},
   "outputs": [
    {
     "name": "stdout",
     "output_type": "stream",
     "text": [
      "[2, 30, 100, 415]\n",
      "415\n"
     ]
    }
   ],
   "source": [
    "#4. Write a Python program to find largest number in a list?\n",
    "l=[100,30,2,415]\n",
    "l.sort()\n",
    "print(l)\n",
    "print(l[-1])\n"
   ]
  },
  {
   "cell_type": "code",
   "execution_count": 20,
   "id": "12d49dcb",
   "metadata": {},
   "outputs": [
    {
     "name": "stdout",
     "output_type": "stream",
     "text": [
      "67\n"
     ]
    }
   ],
   "source": [
    "#5. Write a Python program to find second largest number in a list?\n",
    "l=[23,45,67,8,345]\n",
    "l.sort()\n",
    "print(l[-2])"
   ]
  },
  {
   "cell_type": "code",
   "execution_count": 23,
   "id": "3eeba1f0",
   "metadata": {},
   "outputs": [
    {
     "name": "stdout",
     "output_type": "stream",
     "text": [
      "67\n"
     ]
    }
   ],
   "source": [
    "l=[23,45,67,8,345]\n",
    "length=len(l)\n",
    "lar=0\n",
    "sec_lar=0\n",
    "if l[0]>l[1]:\n",
    "    lar=l[0]\n",
    "    sec_lar=l[1]\n",
    "else:\n",
    "    lar=l[1]\n",
    "    sec_lar=l[0]\n",
    "for i in range(length):\n",
    "    if l[i]>lar:\n",
    "        sec_lar=lar\n",
    "        lar=l[i]\n",
    "    elif l[i]>sec_lar:\n",
    "        sec_lar=l[i]\n",
    "print(sec_lar)"
   ]
  },
  {
   "cell_type": "code",
   "execution_count": 25,
   "id": "ea160e60",
   "metadata": {},
   "outputs": [
    {
     "name": "stdout",
     "output_type": "stream",
     "text": [
      "Enter the number you want5\n",
      "6\n"
     ]
    }
   ],
   "source": [
    "#6. Write a Python program to find N largest elements from a list?\n",
    "l=[32,45,6,123,908,1]\n",
    "l.sort()\n",
    "N=int(input(\"Enter the number you want\"))\n",
    "print(l[-N])"
   ]
  },
  {
   "cell_type": "code",
   "execution_count": 9,
   "id": "c1ecc90b",
   "metadata": {},
   "outputs": [
    {
     "name": "stdout",
     "output_type": "stream",
     "text": [
      "Enter the number of element you want in list: 3\n",
      "3\n",
      "3\n",
      "3\n",
      "[3, 3, 3]\n",
      "No element present in list is even number\n"
     ]
    }
   ],
   "source": [
    "#7. Write a Python program to print even numbers in a list?\n",
    "l=[]\n",
    "n=int(input(\"Enter the number of element you want in list: \"))\n",
    "for i in range(n): \n",
    "    t=int(input( ))\n",
    "    l.append(t)     \n",
    "print(l)\n",
    "l1=[]\n",
    "for j in l:\n",
    "    if j%2==0:\n",
    "        l1.append(j)\n",
    "if len(l1)==0:\n",
    "    print(\"No element present in list is even number\")\n",
    "else:\n",
    "    print(l1)   \n",
    "        \n"
   ]
  },
  {
   "cell_type": "code",
   "execution_count": 12,
   "id": "289f61cd",
   "metadata": {},
   "outputs": [
    {
     "name": "stdout",
     "output_type": "stream",
     "text": [
      "[23, 45]\n"
     ]
    }
   ],
   "source": [
    "#8. Write a Python program to print odd numbers in a List?\n",
    "l=[23,45,6,4,10]\n",
    "l1=[]\n",
    "for i in l:\n",
    "    if i%2!=0:\n",
    "        l1.append(i)\n",
    "print(l1)\n",
    "        \n"
   ]
  },
  {
   "cell_type": "code",
   "execution_count": 14,
   "id": "470533c7",
   "metadata": {},
   "outputs": [
    {
     "name": "stdout",
     "output_type": "stream",
     "text": [
      "[1, 2, 3, 4, [54, 'Vaibhav']]\n"
     ]
    }
   ],
   "source": [
    "#9. Write a Python program to Remove empty List from List?\n",
    "l=[1,2,3,4,[],[54,\"Vaibhav\"]]\n",
    "for i in l:\n",
    "    if type(i)==list:\n",
    "        if len(i)==0:\n",
    "            l.remove(i)\n",
    "print(l)"
   ]
  },
  {
   "cell_type": "code",
   "execution_count": 10,
   "id": "22971798",
   "metadata": {},
   "outputs": [
    {
     "name": "stdout",
     "output_type": "stream",
     "text": [
      "[1, 2, 3, 4, 5]\n"
     ]
    }
   ],
   "source": [
    "#10. Write a Python program to Cloning or Copying a list?\n",
    "l=[1,2,3,4,5]\n",
    "l1=l\n",
    "print(l1)"
   ]
  },
  {
   "cell_type": "code",
   "execution_count": 21,
   "id": "e12ea99f",
   "metadata": {},
   "outputs": [
    {
     "name": "stdout",
     "output_type": "stream",
     "text": [
      "2 has occured in list is 1 time\n",
      "3 has occured in list is 1 time\n",
      "4 has occured in list is 3 time\n",
      "4 has occured in list is 3 time\n",
      "5 has occured in list is 1 time\n",
      "4 has occured in list is 3 time\n",
      "6 has occured in list is 1 time\n",
      "7 has occured in list is 1 time\n"
     ]
    }
   ],
   "source": [
    "#11. Write a Python program to Count occurrences of an element in a list?\n",
    "\n",
    "l=[2,3,4,4,5,4,6,7]\n",
    "for i in l:\n",
    "    print(i,\"has occured in list is\",l.count(i),\"time\")\n"
   ]
  },
  {
   "cell_type": "code",
   "execution_count": null,
   "id": "728472f3",
   "metadata": {},
   "outputs": [],
   "source": []
  }
 ],
 "metadata": {
  "kernelspec": {
   "display_name": "Python 3 (ipykernel)",
   "language": "python",
   "name": "python3"
  },
  "language_info": {
   "codemirror_mode": {
    "name": "ipython",
    "version": 3
   },
   "file_extension": ".py",
   "mimetype": "text/x-python",
   "name": "python",
   "nbconvert_exporter": "python",
   "pygments_lexer": "ipython3",
   "version": "3.9.12"
  }
 },
 "nbformat": 4,
 "nbformat_minor": 5
}
