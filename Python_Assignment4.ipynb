{
 "cells": [
  {
   "cell_type": "code",
   "execution_count": null,
   "id": "b289837e",
   "metadata": {},
   "outputs": [],
   "source": [
    "Q1. 1. What exactly is []?\n",
    "Ans: we can say it is empty list either square brackets which we use for list "
   ]
  },
  {
   "cell_type": "code",
   "execution_count": null,
   "id": "ec62d75c",
   "metadata": {},
   "outputs": [],
   "source": [
    "Q2. In a list of values stored in a variable called spam, how would you assign the value &#39;hello&#39; as the\n",
    "third value? (Assume [2, 4, 6, 8, 10] are in spam.)\n",
    "Ans:spam=[2,4,6,8,10]\n",
    "    spam[3]=\"Hello\"\n",
    "    print(spam)"
   ]
  },
  {
   "cell_type": "code",
   "execution_count": null,
   "id": "5e5de833",
   "metadata": {},
   "outputs": [],
   "source": [
    "spam=['a','b','c','d']\n",
    "Q3. 3. What is the value of spam[int(int('3'*2)/11)]?\n",
    "Ans: 'd'"
   ]
  },
  {
   "cell_type": "code",
   "execution_count": null,
   "id": "8fd8d548",
   "metadata": {},
   "outputs": [],
   "source": [
    "Q4. What is the value of spam[-1]?\n",
    "Ans: 'd'"
   ]
  },
  {
   "cell_type": "code",
   "execution_count": null,
   "id": "473d543e",
   "metadata": {},
   "outputs": [],
   "source": [
    "Q5. What is the value of spam[:2]?\n",
    "Ans: ['a', 'b']"
   ]
  },
  {
   "cell_type": "code",
   "execution_count": 8,
   "id": "16e97f14",
   "metadata": {},
   "outputs": [],
   "source": [
    "bacon=[3.14,'cat', 11,'cat',True]\n",
    "Q6. What is the value of bacon.index('cat')?\n",
    "Ans: 1"
   ]
  },
  {
   "cell_type": "code",
   "execution_count": 9,
   "id": "b26bc425",
   "metadata": {},
   "outputs": [],
   "source": [
    "Q7. How does bacon.append(99) change the look of the list value in bacon?\n",
    "Ans: [3.14,'cat', 11,'cat',True, 99]"
   ]
  },
  {
   "cell_type": "code",
   "execution_count": 13,
   "id": "d1574a43",
   "metadata": {},
   "outputs": [],
   "source": [
    "Q8. How does bacon.remove('cat') change the look of the list in bacon?\n",
    "Ans:[3.14, 11, 'cat', True]"
   ]
  },
  {
   "cell_type": "code",
   "execution_count": null,
   "id": "3216dcad",
   "metadata": {},
   "outputs": [],
   "source": [
    "Q9. What are the list concatenation and list replication operators?\n",
    "Ans:The operator for list concatenation is +, while the operator for replication is *"
   ]
  },
  {
   "cell_type": "code",
   "execution_count": null,
   "id": "6c2bc605",
   "metadata": {},
   "outputs": [],
   "source": [
    "Q10. What is difference between the list methods append() and insert()?\n",
    "Ans: when we use append() it will add element at last position only, but if we use insert() we can add element \n",
    "     at position we want"
   ]
  },
  {
   "cell_type": "code",
   "execution_count": null,
   "id": "cfc47cee",
   "metadata": {},
   "outputs": [],
   "source": [
    "Q11. What are the two methods for removing items from a list?\n",
    "Ans: remove() & pop ()"
   ]
  },
  {
   "cell_type": "code",
   "execution_count": null,
   "id": "036952ce",
   "metadata": {},
   "outputs": [],
   "source": [
    "Q12. Describe how list values and string values are identical.\n",
    "Ans: List and string both are sequences, they stores element in ordered way, string contains \n",
    "     collection of charactes only which are of string type, but list can contain different types \n",
    "     element in it"
   ]
  },
  {
   "cell_type": "code",
   "execution_count": null,
   "id": "627d5187",
   "metadata": {},
   "outputs": [],
   "source": [
    "Q13. What is the difference between tuples and lists?\n",
    "Ans: syntax of list is l=[], syntax of tuple is t=()\n",
    "     Also Lists are mutable means we can modify it, tuples are immutable "
   ]
  },
  {
   "cell_type": "code",
   "execution_count": null,
   "id": "b5828d3c",
   "metadata": {},
   "outputs": [],
   "source": [
    "Q14. How do you type a tuple value that only contains the integer 42?\n",
    "Ans: t=(42)"
   ]
  },
  {
   "cell_type": "code",
   "execution_count": null,
   "id": "2659ea72",
   "metadata": {},
   "outputs": [],
   "source": [
    "Q15. How do you get a list values in tuple form? How do you get a tuple values in list form?\n",
    "Ans: l=[1,2,3,4]\n",
    "     tuple(l)\n",
    "     t=(1,2,3,4)\n",
    "     list[t]"
   ]
  },
  {
   "cell_type": "code",
   "execution_count": null,
   "id": "3ca99061",
   "metadata": {},
   "outputs": [],
   "source": [
    "Q16. Variables that \"contain\" list values are not necessarily lists themselves. Instead, what do they\n",
    "contain?\n",
    "Ans: They store address of list where the list is stored in memory"
   ]
  },
  {
   "cell_type": "code",
   "execution_count": null,
   "id": "4ca52ddd",
   "metadata": {},
   "outputs": [],
   "source": [
    "Q17. How do you distinguish between copy.copy() and copy.deepcopy()? \n",
    "Ans: copy() create reference to original object. If you change copied object - you change the original object.\n",
    "     deepcopy() creates new object and does real copying of original object to new one. \n",
    "     Changing new deepcopied object doesn't affect original object."
   ]
  }
 ],
 "metadata": {
  "kernelspec": {
   "display_name": "Python 3 (ipykernel)",
   "language": "python",
   "name": "python3"
  },
  "language_info": {
   "codemirror_mode": {
    "name": "ipython",
    "version": 3
   },
   "file_extension": ".py",
   "mimetype": "text/x-python",
   "name": "python",
   "nbconvert_exporter": "python",
   "pygments_lexer": "ipython3",
   "version": "3.9.12"
  }
 },
 "nbformat": 4,
 "nbformat_minor": 5
}
