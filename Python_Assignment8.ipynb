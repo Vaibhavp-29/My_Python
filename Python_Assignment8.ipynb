{
 "cells": [
  {
   "cell_type": "code",
   "execution_count": null,
   "id": "55bbbecf",
   "metadata": {},
   "outputs": [],
   "source": [
    "#1. Is the Python Standard Library included with PyInputPlus?\n",
    "Ans:PyInputPlus is not a part of the Python Standard Library, so you must install it separately\n",
    "    by using pip install PyInputPlus"
   ]
  },
  {
   "cell_type": "code",
   "execution_count": null,
   "id": "1114622b",
   "metadata": {},
   "outputs": [],
   "source": [
    "#2. Why is PyInputPlus commonly imported with import pyinputplus as pypi?\n",
    "Ans: so that we can enter a shorter name when calling the module's functions"
   ]
  },
  {
   "cell_type": "code",
   "execution_count": null,
   "id": "ff8c4259",
   "metadata": {},
   "outputs": [],
   "source": [
    "#3. How do you distinguish between inputInt() and inputFloat()?\n",
    "Ans:The inputInt() function returns an integer, while the inputFloat() function returns a float value"
   ]
  },
  {
   "cell_type": "code",
   "execution_count": null,
   "id": "74e90e50",
   "metadata": {},
   "outputs": [],
   "source": [
    "#4. Using PyInputPlus, how do you ensure that the user enters a whole number between 0 and 99?\n",
    "Ans: in inputNum() we can set min value to 0 and max value to 99 for entering whole number"
   ]
  },
  {
   "cell_type": "code",
   "execution_count": null,
   "id": "7eddb688",
   "metadata": {},
   "outputs": [],
   "source": [
    "#5. What is transferred to the keyword arguments allowRegexes and blockRegexes?\n",
    "Ans: We can also use regular expressions to specify whether an input is allowed or not. The allowRegexes and blockRegexes\n",
    "    keyword arguments take a list of regular expression strings to determine what the PyInputPlus function will accept \n",
    "    or reject as valid input."
   ]
  },
  {
   "cell_type": "code",
   "execution_count": 6,
   "id": "b0952cc3",
   "metadata": {},
   "outputs": [],
   "source": [
    "#6. If a blank input is entered three times, what does inputStr(limit=3) do?\n",
    "Ans: It will throw an expecption RetryLimitException\n"
   ]
  },
  {
   "cell_type": "code",
   "execution_count": null,
   "id": "e256797a",
   "metadata": {},
   "outputs": [],
   "source": [
    "#7. If blank input is entered three times, what does inputStr(limit=3, default='hello') do?\n",
    "Ans: When you use limit keyword arguments and also pass a default keyword argument, the function returns \n",
    "     the default value instead of raising an exception"
   ]
  }
 ],
 "metadata": {
  "kernelspec": {
   "display_name": "Python 3 (ipykernel)",
   "language": "python",
   "name": "python3"
  },
  "language_info": {
   "codemirror_mode": {
    "name": "ipython",
    "version": 3
   },
   "file_extension": ".py",
   "mimetype": "text/x-python",
   "name": "python",
   "nbconvert_exporter": "python",
   "pygments_lexer": "ipython3",
   "version": "3.9.12"
  }
 },
 "nbformat": 4,
 "nbformat_minor": 5
}
