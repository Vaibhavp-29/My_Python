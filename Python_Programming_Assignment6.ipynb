{
 "cells": [
  {
   "cell_type": "code",
   "execution_count": 7,
   "id": "2747bf26",
   "metadata": {},
   "outputs": [
    {
     "name": "stdout",
     "output_type": "stream",
     "text": [
      "Enter the no of items you want: 8\n",
      "Fibonacci sequence:\n",
      "0\n",
      "1\n",
      "1\n",
      "2\n",
      "3\n",
      "5\n",
      "8\n",
      "13\n"
     ]
    }
   ],
   "source": [
    "#1. Write a Python Program to Display Fibonacci Sequence Using Recursion?\n",
    "def recur_fibo(n):\n",
    "   if n <= 1:\n",
    "       return n\n",
    "   else:\n",
    "       return(recur_fibo(n-1) + recur_fibo(n-2))\n",
    "\n",
    "nterm=int(input(\"Enter the no of items you want: \"))\n",
    "\n",
    "if nterm<0:\n",
    "    print(\"Enter the positive value\")\n",
    "else:\n",
    "    print(\"Fibonacci sequence:\")\n",
    "    for i in range(nterm):\n",
    "        print(recur_fibo(i))"
   ]
  },
  {
   "cell_type": "code",
   "execution_count": 11,
   "id": "bfc4e131",
   "metadata": {},
   "outputs": [
    {
     "name": "stdout",
     "output_type": "stream",
     "text": [
      "Enter the number of which you want to calculate Factorial: 4\n",
      "4 ! is = 24\n"
     ]
    }
   ],
   "source": [
    "#2. Write a Python Program to Find Factorial of Number Using Recursion?\n",
    "def fact(n):\n",
    "    if n:\n",
    "        return n*fact(n-1)\n",
    "    else:\n",
    "        return 1\n",
    "n=int(input(\"Enter the number of which you want to calculate Factorial: \"))\n",
    "f=fact(n)\n",
    "print(n,\"! is =\",f)"
   ]
  },
  {
   "cell_type": "code",
   "execution_count": 19,
   "id": "51fbc2cd",
   "metadata": {},
   "outputs": [
    {
     "name": "stdout",
     "output_type": "stream",
     "text": [
      "Enter the weight of person in KG: 78\n",
      "Enter the height of person in meter: 1.78\n",
      "24.61810377477591\n",
      "Person is Healthy\n"
     ]
    }
   ],
   "source": [
    "#3. Write a Python Program to calculate your Body Mass Index?\n",
    "weight=float(input(\"Enter the weight of person in KG: \"))\n",
    "height=float(input(\"Enter the height of person in meter: \"))\n",
    "bmi=weight/height**2\n",
    "print(bmi)\n",
    "if (bmi < 18.5):\n",
    "    print(\"Person is underweight\")\n",
    " \n",
    "elif ( bmi >= 18.5 and bmi < 24.9):\n",
    "    print(\"Person is Healthy\")\n",
    " \n",
    "elif ( bmi >= 24.9 and bmi < 30):\n",
    "    print(\"Person is overweight\")\n",
    " \n",
    "elif ( bmi >=30):\n",
    "    print(\"Person is Suffering from Obesity\")"
   ]
  },
  {
   "cell_type": "code",
   "execution_count": 26,
   "id": "ec046b81",
   "metadata": {},
   "outputs": [
    {
     "name": "stdout",
     "output_type": "stream",
     "text": [
      "Enter tha value of n: 8\n",
      "2.0794415416798357\n"
     ]
    }
   ],
   "source": [
    "#4. Write a Python Program to calculate the natural logarithm of any number?\n",
    "import math\n",
    "n=int(input(\"Enter tha value of n: \"))\n",
    "try:\n",
    "    if n <0:\n",
    "        print(\"Please enter value greater than 0\\n\")\n",
    "    ##elif n==0:\n",
    "        print(\"Value should not be zero\\n\")\n",
    "    else:\n",
    "        print(math.log(n))\n",
    "except Exception as e:\n",
    "    print(e)\n",
    "    "
   ]
  },
  {
   "cell_type": "code",
   "execution_count": 4,
   "id": "3ff62a61",
   "metadata": {},
   "outputs": [
    {
     "name": "stdout",
     "output_type": "stream",
     "text": [
      "Enter the number: 6\n",
      "1\n",
      "8\n",
      "27\n",
      "64\n",
      "125\n",
      "216\n"
     ]
    }
   ],
   "source": [
    "#5. Write a Python Program for cube sum of first n natural numbers?\n",
    "n=int(input(\"Enter the number: \"))\n",
    "for i in range(1,n+1):\n",
    "    cube=i**3\n",
    "    print(cube)\n",
    "\n",
    "    "
   ]
  },
  {
   "cell_type": "code",
   "execution_count": null,
   "id": "5f7616b7",
   "metadata": {},
   "outputs": [],
   "source": []
  }
 ],
 "metadata": {
  "kernelspec": {
   "display_name": "Python 3 (ipykernel)",
   "language": "python",
   "name": "python3"
  },
  "language_info": {
   "codemirror_mode": {
    "name": "ipython",
    "version": 3
   },
   "file_extension": ".py",
   "mimetype": "text/x-python",
   "name": "python",
   "nbconvert_exporter": "python",
   "pygments_lexer": "ipython3",
   "version": "3.9.12"
  }
 },
 "nbformat": 4,
 "nbformat_minor": 5
}
