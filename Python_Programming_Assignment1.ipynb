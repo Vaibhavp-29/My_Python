{
 "cells": [
  {
   "cell_type": "code",
   "execution_count": null,
   "id": "88684ae3",
   "metadata": {},
   "outputs": [],
   "source": [
    "1. Write a Python program to print 'Hello Python'?\n",
    "Ans: print(\"Hello Python\")"
   ]
  },
  {
   "cell_type": "code",
   "execution_count": null,
   "id": "0678a164",
   "metadata": {},
   "outputs": [],
   "source": [
    "2. Write a Python program to do arithmetical operations addition and division.?\n",
    "Ans: a=10\n",
    "     b=20\n",
    "     c=a+b\n",
    "     d=a/b\n",
    "     print(c)\n",
    "     print(d)"
   ]
  },
  {
   "cell_type": "code",
   "execution_count": null,
   "id": "e8f1e23e",
   "metadata": {},
   "outputs": [],
   "source": [
    "3. Write a Python program to find the area of a triangle?\n",
    "Ans: b=int(input(\"Enter the base value of triangle: \\n\"))\n",
    "     h=int(input(\"Enter the height value of triangle: \\n\"))\n",
    "     a=1/2*(b*h)\n",
    "     print(\"Area of triangle is: \",a)"
   ]
  },
  {
   "cell_type": "code",
   "execution_count": null,
   "id": "bd5b1ddb",
   "metadata": {},
   "outputs": [],
   "source": [
    "4. Write a Python program to swap two variables?\n",
    "Ans: a=10\n",
    "     b=5\n",
    "     t=0\n",
    "     print(\"Before Swaping:\",a,b)\n",
    "     t=b\n",
    "     b=a\n",
    "     a=t\n",
    "     print(\"After Swaping: \",a,b)"
   ]
  },
  {
   "cell_type": "code",
   "execution_count": null,
   "id": "b057391c",
   "metadata": {},
   "outputs": [],
   "source": [
    "5. Write a Python program to generate a random number?\n",
    "Ans: import random\n",
    "print(random.randint(0,100)) # It will generate any random number between 0 to 100"
   ]
  }
 ],
 "metadata": {
  "kernelspec": {
   "display_name": "Python 3 (ipykernel)",
   "language": "python",
   "name": "python3"
  },
  "language_info": {
   "codemirror_mode": {
    "name": "ipython",
    "version": 3
   },
   "file_extension": ".py",
   "mimetype": "text/x-python",
   "name": "python",
   "nbconvert_exporter": "python",
   "pygments_lexer": "ipython3",
   "version": "3.9.12"
  }
 },
 "nbformat": 4,
 "nbformat_minor": 5
}
