{
 "cells": [
  {
   "cell_type": "code",
   "execution_count": null,
   "id": "a5ded37e",
   "metadata": {},
   "outputs": [],
   "source": [
    "Q1.What are the two values of the Boolean data type? How do you write them?\n",
    "Ans: True and False "
   ]
  },
  {
   "cell_type": "code",
   "execution_count": null,
   "id": "994f382e",
   "metadata": {},
   "outputs": [],
   "source": [
    "Q2. What are the three different types of Boolean operators?\n",
    "Ans: logical operator and, or, not are the boolean operators"
   ]
  },
  {
   "cell_type": "code",
   "execution_count": null,
   "id": "4ba7cde6",
   "metadata": {},
   "outputs": [],
   "source": [
    "Q3. Make a list of each Boolean operator's truth tables (i.e. every possible combination of Boolean\n",
    "values for the operator and what it evaluate ).\n",
    "Ans: Operator    Description                                     Representation\n",
    "     and         True if both are True,else false                x and y\n",
    "     or          True if at least one is True, else false        x or y\n",
    "     not         True only if False, false if True               not x"
   ]
  },
  {
   "cell_type": "code",
   "execution_count": null,
   "id": "4991e987",
   "metadata": {},
   "outputs": [],
   "source": [
    "Q4. What are the values of the following expressions?\n",
    "      (5 > 4) and (3 == 5) \n",
    "      not (5 > 4)\n",
    "      (5 > 4) or (3 == 5)\n",
    "      not ((5 > 4) or (3 == 5))\n",
    "      (True and True) and (True == False)\n",
    "      (not False) or (not True)\n",
    "Ans: False\n",
    "     False\n",
    "     True\n",
    "     False\n",
    "     False\n",
    "     True\n",
    "\n"
   ]
  },
  {
   "cell_type": "code",
   "execution_count": null,
   "id": "d7724843",
   "metadata": {},
   "outputs": [],
   "source": [
    "Q5. What are the six comparison operators?\n",
    "Ans: > greater than,\n",
    "     < Less than,\n",
    "     <= less than or equal to,\n",
    "     >= greater than or equal to,\n",
    "    != not equal to,\n",
    "    == equal to"
   ]
  },
  {
   "cell_type": "code",
   "execution_count": null,
   "id": "288a08f7",
   "metadata": {},
   "outputs": [],
   "source": [
    "Q6. How do you tell the difference between the equal to and assignment operators?Describe a\n",
    "condition and when you would use one.\n",
    "Ans: assignment is itslef an operator, whereas equal to is comparision operator.\n",
    "     equal to operator is used when need to check for two operands are same or not, but assignment operator \n",
    "     is used to assign some value\n",
    "    ex. Assignment operator -> a=5\n",
    "        equal to operator a==5 it will give an output as true or false"
   ]
  },
  {
   "cell_type": "code",
   "execution_count": null,
   "id": "26e764d6",
   "metadata": {},
   "outputs": [],
   "source": [
    "Q7. Identify the three blocks in this code:\n",
    "spam = 0\n",
    "if spam == 10:\n",
    "print('eggs')\n",
    "if spam > 5:\n",
    "print('bacon')\n",
    "else:\n",
    "print('ham')\n",
    "print('spam')\n",
    "print('spam')\n",
    "Ans: here 3 indentation are missing we can write above like this:\n",
    "spam = 0\n",
    "if spam == 10:\n",
    "    print('eggs')\n",
    "if spam > 5:\n",
    "    print('bacon')\n",
    "else:\n",
    "    print('ham')\n",
    "print('spam')\n",
    "print('spam')"
   ]
  },
  {
   "cell_type": "code",
   "execution_count": 4,
   "id": "6df616e1",
   "metadata": {},
   "outputs": [
    {
     "name": "stdout",
     "output_type": "stream",
     "text": [
      "Ente the value of spam: 4\n",
      "Greeting !\n"
     ]
    }
   ],
   "source": [
    "\"\"\"\"Q8. Write code that prints Hello if 1 is stored in spam, prints Howdy if 2 is stored in spam, and prints\n",
    "Greetings! if anything else is stored in spam.\n",
    "Ans:\"\"\"\n",
    "spam= int(input(\"Ente the value of spam: \"))\n",
    "if spam==1:\n",
    "    print(\"Hello\")\n",
    "elif spam==2:\n",
    "    print(\"Howdy\")\n",
    "else:\n",
    "    print(\"Greeting !\")"
   ]
  },
  {
   "cell_type": "code",
   "execution_count": null,
   "id": "336202dc",
   "metadata": {},
   "outputs": [],
   "source": [
    "Q9. 9.If your programme is stuck in an endless loop, what keys you’ll press?\n",
    "Ans: we can press ctrl+c to come out"
   ]
  },
  {
   "cell_type": "code",
   "execution_count": null,
   "id": "88e6669b",
   "metadata": {},
   "outputs": [],
   "source": [
    "Q10. How can you tell the difference between break and continue?\n",
    "Ans: 1. break statement we can use to terminate the loop in program,statements present below break will not execute\n",
    "     2. continue statement will not terminate the program, it will keep continue running loop "
   ]
  },
  {
   "cell_type": "code",
   "execution_count": null,
   "id": "71c1ccbc",
   "metadata": {},
   "outputs": [],
   "source": [
    "Q 11. In a for loop, what is the difference between range(10), range(0, 10), and range(0, 10, 1)?\n",
    "Ans: All 3 will give same ouput, in range(10) we have not mentioned lower bound point so will consider 0 itself, also\n",
    "    step size will consider automatically +1\n",
    "    in range(0,10) lower and upper limit is mentioned step size will be considered as +1\n",
    "    in range(0,10,+1) lower & upper limit is mentioned, also step size is mentioned as well\n",
    "    so logically no difference in all\n",
    "    "
   ]
  },
  {
   "cell_type": "code",
   "execution_count": null,
   "id": "e1fb7abb",
   "metadata": {},
   "outputs": [],
   "source": [
    "Q 12. Write a short program that prints the numbers 1 to 10 using a for loop. Then write an equivalent\n",
    "program that prints the numbers 1 to 10 using a while loop.\n",
    "Ans: using for loop\n",
    "    for i in range(1,11):\n",
    "    print(i)\n",
    "    ====================================================================================\n",
    "    using while loop\n",
    "    a=1\n",
    "    while a<=10:\n",
    "        print(a)\n",
    "        a=a+1"
   ]
  },
  {
   "cell_type": "code",
   "execution_count": null,
   "id": "a90ca2dd",
   "metadata": {},
   "outputs": [],
   "source": [
    "Q.13. If you had a function named bacon() inside a module named spam, how would you call it after\n",
    "importing spam?\n",
    "Ans: import spam\n",
    "     spam.bacon()"
   ]
  }
 ],
 "metadata": {
  "kernelspec": {
   "display_name": "Python 3 (ipykernel)",
   "language": "python",
   "name": "python3"
  },
  "language_info": {
   "codemirror_mode": {
    "name": "ipython",
    "version": 3
   },
   "file_extension": ".py",
   "mimetype": "text/x-python",
   "name": "python",
   "nbconvert_exporter": "python",
   "pygments_lexer": "ipython3",
   "version": "3.9.12"
  }
 },
 "nbformat": 4,
 "nbformat_minor": 5
}
