{
 "cells": [
  {
   "cell_type": "code",
   "execution_count": null,
   "id": "59d884cb",
   "metadata": {},
   "outputs": [],
   "source": [
    "Q1. What does an empty dictionary's code look like?\n",
    "Ans: d={}"
   ]
  },
  {
   "cell_type": "code",
   "execution_count": null,
   "id": "0bc66bfd",
   "metadata": {},
   "outputs": [],
   "source": [
    "Q2. What is the value of a dictionary value with the key 'foo' and the value 42?\n",
    "Ans: d={'foo':42}\n",
    "     value will be 42"
   ]
  },
  {
   "cell_type": "code",
   "execution_count": null,
   "id": "4c3cec81",
   "metadata": {},
   "outputs": [],
   "source": [
    "Q3. What is the most significant distinction between a dictionary and a list?\n",
    "Ans: in Dictionary consist of its element as key value paire, but list doesn't consist of values like key:value paire\n",
    "     syntax of list is l=[], syntax of dictionary is d={'key':'value'}"
   ]
  },
  {
   "cell_type": "code",
   "execution_count": null,
   "id": "afae945e",
   "metadata": {},
   "outputs": [],
   "source": [
    "Q4. What happens if you try to access spam['foo'] if spam is {'bar': 100}?\n",
    "Ans:It gives KeyError, beacause we have to access values by using keys, we can't access keys by using Values"
   ]
  },
  {
   "cell_type": "code",
   "execution_count": null,
   "id": "8817233f",
   "metadata": {},
   "outputs": [],
   "source": [
    "Q5. If a dictionary is stored in spam, what is the difference between the expressions 'cat' in spam and\n",
    "'cat' in spam.keys()?\n",
    "Ans: If I understood question correctly spam={'cat':'cat'}\n",
    "     if we do spam['cat'] it will give output 'cat'\n",
    "     if we do spam.keys() it will give output dict_keys(['cat']"
   ]
  },
  {
   "cell_type": "code",
   "execution_count": null,
   "id": "43da71bb",
   "metadata": {},
   "outputs": [],
   "source": [
    "Q6. If a dictionary is stored in spam, what is the difference between the expressions 'cat' in spam and\n",
    "'cat' in spam.values()?\n",
    "Ans: If I understood question correctly spam={'cat':'cat'}\n",
    "     if we do spam['cat'] it will give output 'cat'\n",
    "     if we do spam.values() it will give output dict_values(['cat'])"
   ]
  },
  {
   "cell_type": "code",
   "execution_count": null,
   "id": "5d5c1b3d",
   "metadata": {},
   "outputs": [],
   "source": [
    "7. What is a shortcut for the following code?\n",
    "if 'color'not in spam:\n",
    "spam['color'] = 'black'\n",
    "Ans: spam['color']='black'"
   ]
  },
  {
   "cell_type": "code",
   "execution_count": null,
   "id": "9fa50552",
   "metadata": {},
   "outputs": [],
   "source": [
    "8. How do you \"pretty print\" dictionary values using which module and function?\n",
    "Ans:we have to use pprint() inside pprint module"
   ]
  }
 ],
 "metadata": {
  "kernelspec": {
   "display_name": "Python 3 (ipykernel)",
   "language": "python",
   "name": "python3"
  },
  "language_info": {
   "codemirror_mode": {
    "name": "ipython",
    "version": 3
   },
   "file_extension": ".py",
   "mimetype": "text/x-python",
   "name": "python",
   "nbconvert_exporter": "python",
   "pygments_lexer": "ipython3",
   "version": "3.9.12"
  }
 },
 "nbformat": 4,
 "nbformat_minor": 5
}
