{
 "cells": [
  {
   "cell_type": "code",
   "execution_count": null,
   "id": "11b53cd4",
   "metadata": {},
   "outputs": [],
   "source": [
    "1. Why are functions advantageous to have in your programs?\n",
    "Ans: If we write functions in program,no need to write code again and again for repetative task which we usually need to\n",
    "     do again and again. we just call function to perform that task how many times we want\n",
    "     Due to fucntion complexity and length of program decreases."
   ]
  },
  {
   "cell_type": "code",
   "execution_count": null,
   "id": "78013963",
   "metadata": {},
   "outputs": [],
   "source": [
    "2. When does the code in a function run: when it's specified or when it's called?\n",
    "Ans: when we do call function"
   ]
  },
  {
   "cell_type": "code",
   "execution_count": null,
   "id": "a4fce4af",
   "metadata": {},
   "outputs": [],
   "source": [
    "3. What statement creates a function?\n",
    "Ans: def function_name():    "
   ]
  },
  {
   "cell_type": "code",
   "execution_count": null,
   "id": "ca1c3790",
   "metadata": {},
   "outputs": [],
   "source": [
    "4. What is the difference between a function and a function call?\n",
    "Ans: we write fucntion to perform some task, so we can use it to perform same task again or multiple times\n",
    "     function call is to call function to perform the task for which has written"
   ]
  },
  {
   "cell_type": "code",
   "execution_count": null,
   "id": "f53219f7",
   "metadata": {},
   "outputs": [],
   "source": [
    "5. How many global scopes are there in a Python program? How many local scopes?\n",
    "Ans: global scope is one, local scope we do have 3 which are local, global, built-in"
   ]
  },
  {
   "cell_type": "code",
   "execution_count": null,
   "id": "e7a917bb",
   "metadata": {},
   "outputs": [],
   "source": [
    "6. What happens to variables in a local scope when the function call returns?\n",
    "Ans: life of variable ends"
   ]
  },
  {
   "cell_type": "code",
   "execution_count": null,
   "id": "117908d1",
   "metadata": {},
   "outputs": [],
   "source": [
    "7. What is the concept of a return value? Is it possible to have a return value in an expression?\n",
    "Ans: in return value output of task performed by function we can return, so if function gets called it will give output,\n",
    "     Yes it is possible to have return value in expression"
   ]
  },
  {
   "cell_type": "code",
   "execution_count": null,
   "id": "28a4e83c",
   "metadata": {},
   "outputs": [],
   "source": [
    "8. If a function does not have a return statement, what is the return value of a call to that function?\n",
    "Ans: None "
   ]
  },
  {
   "cell_type": "code",
   "execution_count": null,
   "id": "94fbb76e",
   "metadata": {},
   "outputs": [],
   "source": [
    "9. How do you make a function variable refer to the global variable?\n",
    "Ans: variable inside function will be considered as global, if we write global before it     "
   ]
  },
  {
   "cell_type": "code",
   "execution_count": null,
   "id": "32c27c59",
   "metadata": {},
   "outputs": [],
   "source": [
    "10. What is the data type of None?\n",
    "Ans:NoneType"
   ]
  },
  {
   "cell_type": "code",
   "execution_count": null,
   "id": "cc4d032c",
   "metadata": {},
   "outputs": [],
   "source": [
    "11. What does the sentence import areallyourpetsnamederic do? \n",
    "Ans: That import statement imports a module named areallyourpetsnamederic"
   ]
  },
  {
   "cell_type": "code",
   "execution_count": null,
   "id": "bd734347",
   "metadata": {},
   "outputs": [],
   "source": [
    "12. If you had a bacon() feature in a spam module, what would you call it after importing spam?\n",
    "Ans: import spam\n",
    "     spam.balcon()"
   ]
  },
  {
   "cell_type": "code",
   "execution_count": null,
   "id": "82b3d54a",
   "metadata": {},
   "outputs": [],
   "source": [
    "13. What can you do to save a programme from crashing if it encounters an error?\n",
    "Ans: we can use try and except block to save program from crash"
   ]
  },
  {
   "cell_type": "code",
   "execution_count": null,
   "id": "a739ff28",
   "metadata": {},
   "outputs": [],
   "source": [
    "14. What is the purpose of the try clause? What is the purpose of the except clause?\n",
    "Ans:try statement allows you to define a block of code to be tested for errors while it is being executed\n",
    "    The except block lets you handle the error."
   ]
  }
 ],
 "metadata": {
  "kernelspec": {
   "display_name": "Python 3 (ipykernel)",
   "language": "python",
   "name": "python3"
  },
  "language_info": {
   "codemirror_mode": {
    "name": "ipython",
    "version": 3
   },
   "file_extension": ".py",
   "mimetype": "text/x-python",
   "name": "python",
   "nbconvert_exporter": "python",
   "pygments_lexer": "ipython3",
   "version": "3.9.12"
  }
 },
 "nbformat": 4,
 "nbformat_minor": 5
}
