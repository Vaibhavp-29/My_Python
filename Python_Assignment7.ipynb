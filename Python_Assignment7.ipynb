{
 "cells": [
  {
   "cell_type": "code",
   "execution_count": null,
   "id": "dae5b87b",
   "metadata": {},
   "outputs": [],
   "source": [
    "#1. What is the name of the feature responsible for generating Regex objects?\n",
    "Ans: Regular Expression \n",
    "     for using Regex we need to import re\n",
    "     re.complile() returns regex object"
   ]
  },
  {
   "cell_type": "code",
   "execution_count": null,
   "id": "3e9859f2",
   "metadata": {},
   "outputs": [],
   "source": [
    "#2. Why do raw strings often appear in Regex objects?\n",
    "Ans: a raw string treats the backslashe( \\ ) as literal character. Raw strings are useful when you deal \n",
    "     with strings that have many backslashes ex. Regex"
   ]
  },
  {
   "cell_type": "code",
   "execution_count": null,
   "id": "4ede25c9",
   "metadata": {},
   "outputs": [],
   "source": [
    "#3. What is the return value of the search() method?\n",
    "Ans: on success it returns match object, on failure it returns none\n",
    "     If there is more than one object matched, only the first occurrence of the match will be returned"
   ]
  },
  {
   "cell_type": "code",
   "execution_count": null,
   "id": "1ecd988c",
   "metadata": {},
   "outputs": [],
   "source": [
    "#4. From a Match item, how do you get the actual strings that match the pattern?\n",
    "Ans:  The group() method form match object returns string of the matched text."
   ]
  },
  {
   "cell_type": "code",
   "execution_count": null,
   "id": "4a22a54c",
   "metadata": {},
   "outputs": [],
   "source": [
    "#5. In the regex which created from the r'(\\d\\d\\d)-(\\d\\d\\d-\\d\\d\\d\\d)';, what does group zero cover?\n",
    "#Group 2? Group 1?\n",
    "Ans:Group 0 is the entire match, group 1 covers the first set of parentheses,\n",
    "    and group 2 covers the second set of parentheses."
   ]
  },
  {
   "cell_type": "code",
   "execution_count": null,
   "id": "f60f99fa",
   "metadata": {},
   "outputs": [],
   "source": [
    "#6. In standard expression syntax, parentheses and intervals have distinct meanings. How can you tell\n",
    "#a regex that you want it to fit real parentheses and periods?\n",
    "Ans: Periods and parentheses can be escaped with a backslash: \\., \\(, and \\)."
   ]
  },
  {
   "cell_type": "code",
   "execution_count": null,
   "id": "0e36c60f",
   "metadata": {},
   "outputs": [],
   "source": [
    "#7. The findall() method returns a string list or a list of string tuples. What causes it to return one of the two options?\n",
    "Ans: If the regex has no groups, a list of strings is returned. If the regex has groups,\n",
    "     a list of tuples of strings is returned."
   ]
  },
  {
   "cell_type": "code",
   "execution_count": null,
   "id": "3b22b150",
   "metadata": {},
   "outputs": [],
   "source": [
    "#8. In standard expressions, what does the | character mean?\n",
    "Ans:The | character signifies matching \"either, or\" between two groups.    "
   ]
  },
  {
   "cell_type": "code",
   "execution_count": null,
   "id": "43f8bb1c",
   "metadata": {},
   "outputs": [],
   "source": [
    "#9. In regular expressions, what does the character stand for?\n",
    "Ans:it stands for either a metacharacter, having a special meaning, or a regular character that has a literal meaning"
   ]
  },
  {
   "cell_type": "code",
   "execution_count": null,
   "id": "19b2fb65",
   "metadata": {},
   "outputs": [],
   "source": [
    "#10.In regular expressions, what is the difference between the + and * characters?\n",
    "Ans:The + matches one or more. The * matches zero or more."
   ]
  },
  {
   "cell_type": "code",
   "execution_count": null,
   "id": "8c059044",
   "metadata": {},
   "outputs": [],
   "source": [
    "#11. What is the difference between {4} and {4,5} in regular expression?\n",
    "Ans: {4} it matches 4 instances in preceding group, {4,5} it matches the preceding between 4 & 5 instances"
   ]
  },
  {
   "cell_type": "code",
   "execution_count": null,
   "id": "884b1a0c",
   "metadata": {},
   "outputs": [],
   "source": [
    "#12. What do you mean by the \\d, \\w, and \\s shorthand character classes signify in regular expressions?\n",
    "Ans: \\d- Returns a match where the string contains digits (numbers from 0-9)\n",
    "     \\w- Returns a match where the string contains any word characters \n",
    "         (characters from a to Z, digits from 0-9, and the underscore _ character)\n",
    "    \\s- Returns a match where the string contains a white space character"
   ]
  },
  {
   "cell_type": "code",
   "execution_count": null,
   "id": "4d262147",
   "metadata": {},
   "outputs": [],
   "source": [
    "#13. What do means by \\D, \\W, and \\S shorthand character classes signify in regular expressions?\n",
    "Ans: \\D- Returns a match where the string DOES NOT contain digits\n",
    "     \\W- Returns a match where the string DOES NOT contain any word characters\n",
    "     \\S- Returns a match where the string DOES NOT contain a white space character"
   ]
  },
  {
   "cell_type": "code",
   "execution_count": null,
   "id": "ad412ac6",
   "metadata": {},
   "outputs": [],
   "source": [
    "#14. What is the difference between .*? and .*?\n",
    "ans: .*? represents any single character (usually excluding the newline character) this is non-greedy\n",
    "     .* it will match any character (including newlines ). This is greedy: it matches as much as it can."
   ]
  },
  {
   "cell_type": "code",
   "execution_count": null,
   "id": "3c3d5aea",
   "metadata": {},
   "outputs": [],
   "source": [
    "#15. What is the syntax for matching both numbers and lowercase letters with a character class?\n",
    "Ans: [A-Za-z0-9]"
   ]
  },
  {
   "cell_type": "code",
   "execution_count": null,
   "id": "62069449",
   "metadata": {},
   "outputs": [],
   "source": [
    "#16. What is the procedure for making a normal expression in regax case insensitive?\n",
    "Ans: re. IGNORECASE : This flag allows for case-insensitive matching of the Regular Expression with the given string i.e. \n",
    "    expressions like [A-Z] will match lowercase letters, too."
   ]
  },
  {
   "cell_type": "code",
   "execution_count": null,
   "id": "5ee9d22a",
   "metadata": {},
   "outputs": [],
   "source": [
    "#17. What does the .character normally match? What does it match if re.DOTALL is passed as 2nd argument in re.compile()?\n",
    "Ans: The . character normally matches any character except the newline character. If re.DOTALL is passed as the second \n",
    "     argument to re.compile(), then the dot will also match newline characters."
   ]
  },
  {
   "cell_type": "code",
   "execution_count": null,
   "id": "2d3ee1fe",
   "metadata": {},
   "outputs": [],
   "source": [
    "#18. If numReg = re.compile(r'\\d+'), what will numRegex.sub('X','11 drummers, 10 pipers, five rings, 4 hens') return?\n",
    "Ans: 'X drummers, X pipers, five rings, X hens'"
   ]
  },
  {
   "cell_type": "code",
   "execution_count": null,
   "id": "f0a7812f",
   "metadata": {},
   "outputs": [],
   "source": [
    "#19. What does passing re.VERBOSE as the 2nd argument to re.compile() allow to do?\n",
    "Ans: The re.VERBOSE argument allows you to add whitespace and comments to the string passed to re.compile()."
   ]
  },
  {
   "cell_type": "code",
   "execution_count": null,
   "id": "415ec04b",
   "metadata": {},
   "outputs": [],
   "source": [
    "\"\"\"\n",
    "20. How would you write a regex that match a number with comma for every three digits? It must\n",
    "match the given following:\n",
    "'42'\n",
    "'1,234'\n",
    "'6,368,745'\n",
    "but not the following:\n",
    "'12,34,567' (which has only two digits between the commas)\n",
    "'1234' (which lacks commas) \"\"\"\n",
    "Ans: re.compile(r'^\\d{1,3}(,\\d{3})*$') will create this regex, but other regex strings \n",
    "     can produce a similar regular expression."
   ]
  },
  {
   "cell_type": "code",
   "execution_count": null,
   "id": "b7306fe0",
   "metadata": {},
   "outputs": [],
   "source": [
    "\"\"\"\n",
    "21. How would you write a regex that matches the full name of someone whose last name is\n",
    "Watanabe? You can assume that the first name that comes before it will always be one word that\n",
    "begins with a capital letter. The regex must match the following:\n",
    "'Haruto Watanabe'\n",
    "'Alice Watanabe'\n",
    "'RoboCop Watanabe'\n",
    "but not the following:\n",
    "'haruto Watanabe' (where the first name is not capitalized)\n",
    "'Mr. Watanabe' (where the preceding word has a nonletter character)\n",
    "'Watanabe' (which has no first name)\n",
    "'Haruto watanabe' (where Watanabe is not capitalized)\n",
    "\"\"\"\n",
    "Ans: re.compile(r'[A-Z][a-z]*\\sWatanabe')"
   ]
  },
  {
   "cell_type": "code",
   "execution_count": null,
   "id": "5bb1c173",
   "metadata": {},
   "outputs": [],
   "source": [
    "\"\"\"\n",
    "22. How would you write a regex that matches a sentence where the first word is either Alice, Bob,\n",
    "or Carol; the second word is either eats, pets, or throws; the third word is apples, cats, or baseballs;\n",
    "and the sentence ends with a period? This regex should be case-insensitive. It must match the\n",
    "following:\n",
    "'Alice eats apples.'\n",
    "'Bob pets cats.'\n",
    "'Carol throws baseballs.'\n",
    "'Alice throws Apples.'\n",
    "'BOB EATS CATS.'\n",
    "but not the following:\n",
    "'RoboCop eats apples.'\n",
    "'ALICE THROWS FOOTBALLS.'\n",
    "'Carol eats 7 cats.'\n",
    "\"\"\"\n",
    "Ans:re.compile(r'(Alice|Bob|Carol)\\s(eats|pets|throws)\\s(apples|cats|baseballs)\\.', re.IGNORECASE)"
   ]
  }
 ],
 "metadata": {
  "kernelspec": {
   "display_name": "Python 3 (ipykernel)",
   "language": "python",
   "name": "python3"
  },
  "language_info": {
   "codemirror_mode": {
    "name": "ipython",
    "version": 3
   },
   "file_extension": ".py",
   "mimetype": "text/x-python",
   "name": "python",
   "nbconvert_exporter": "python",
   "pygments_lexer": "ipython3",
   "version": "3.9.12"
  }
 },
 "nbformat": 4,
 "nbformat_minor": 5
}
