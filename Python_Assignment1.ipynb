{
 "cells": [
  {
   "cell_type": "code",
   "execution_count": null,
   "id": "87e6a2d2",
   "metadata": {},
   "outputs": [],
   "source": [
    "Q 1. In the below elements which of them are values or an expression? eg:- values can be\n",
    "integer or string and expressions will be mathematical operators.\n",
    "*\n",
    "'hello'\n",
    "-87.8\n",
    "-\n",
    "/\n",
    "+\n",
    "6\n",
    "\n",
    "Ans: 6, 'hello' and -87.8 are values , also *, -, /, + are expressions or operators "
   ]
  },
  {
   "cell_type": "code",
   "execution_count": null,
   "id": "c7f22256",
   "metadata": {},
   "outputs": [],
   "source": [
    "Q2. What is the difference between string and variable?\n",
    "Ans: string is a data type present in python and variable is container/box which stores the value in memory"
   ]
  },
  {
   "cell_type": "code",
   "execution_count": null,
   "id": "c10ed3c9",
   "metadata": {},
   "outputs": [],
   "source": [
    "Q3. Describe three different data types.\n",
    "Ans: int,str,float,list,tuple,dict,set,complex"
   ]
  },
  {
   "cell_type": "code",
   "execution_count": null,
   "id": "38c7898b",
   "metadata": {},
   "outputs": [],
   "source": [
    "Q4. What is an expression made up of? What do all expressions do?\n",
    "Ans: Expression is made up of using operator and operands, It performs some operation on operands and gives some output"
   ]
  },
  {
   "cell_type": "markdown",
   "id": "68998aca",
   "metadata": {},
   "source": [
    "Q5.This assignment statements, like spam = 10. What is the difference between anexpression and a statement?\n",
    "Ans: excution of above statement will not reproduce output, so difference is when expression executes it produces some result, but when expression executes it may or may not reproduce  result. Every expression can’t be a statement but every statement can be an expression."
   ]
  },
  {
   "cell_type": "code",
   "execution_count": null,
   "id": "34553227",
   "metadata": {},
   "outputs": [],
   "source": [
    "Q6. After running the following code, what does the variable bacon contain?\n",
    "bacon = 22\n",
    "bacon + 1\n",
    "Ans: 23"
   ]
  },
  {
   "cell_type": "code",
   "execution_count": null,
   "id": "7c633aff",
   "metadata": {},
   "outputs": [],
   "source": [
    "Q7. What should the values of the following two terms be?\n",
    "'spam'+'spamspam'\n",
    "'spam'* 3\n",
    "Ans: spamspamspam"
   ]
  },
  {
   "cell_type": "code",
   "execution_count": null,
   "id": "2cdd22e8",
   "metadata": {},
   "outputs": [],
   "source": [
    "Q8. Why is eggs a valid variable name while 100 is invalid?\n",
    "Ans: Variable name can't be start with Digit, it should start with Alphabet "
   ]
  },
  {
   "cell_type": "code",
   "execution_count": null,
   "id": "6249b7ae",
   "metadata": {},
   "outputs": [],
   "source": [
    "Q.9. What three functions can be used to get the integer, floating-point number, or string\n",
    "version of a value?\n",
    "Ans:int(), float(), str()"
   ]
  },
  {
   "cell_type": "code",
   "execution_count": null,
   "id": "1b277fe2",
   "metadata": {},
   "outputs": [],
   "source": [
    "Q10.Why does this expression cause an error? How can you fix it?\n",
    "'I have eaten'+ 99 +'burritos'\n",
    "Ans: Because only string can be concatinate with string, here 99 is an int value,\n",
    "    so if we will use '99' like this it works fine."
   ]
  }
 ],
 "metadata": {
  "kernelspec": {
   "display_name": "Python 3 (ipykernel)",
   "language": "python",
   "name": "python3"
  },
  "language_info": {
   "codemirror_mode": {
    "name": "ipython",
    "version": 3
   },
   "file_extension": ".py",
   "mimetype": "text/x-python",
   "name": "python",
   "nbconvert_exporter": "python",
   "pygments_lexer": "ipython3",
   "version": "3.9.12"
  }
 },
 "nbformat": 4,
 "nbformat_minor": 5
}
